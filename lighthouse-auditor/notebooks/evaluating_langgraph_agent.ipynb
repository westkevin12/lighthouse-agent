{
 "cells": [
  {
   "cell_type": "markdown",
   "metadata": {},
   "source": [
    "# Evaluating the Lighthouse Auditor Agent\n",
    "\n",
    "This notebook demonstrates the capabilities of our Lighthouse auditor agent, which can:\n",
    "1. Run Lighthouse audits on websites\n",
    "2. Analyze performance, accessibility, and SEO issues\n",
    "3. Generate and implement fixes via GitHub PRs\n",
    "\n",
    "## Setup"
   ]
  },
  {
   "cell_type": "code",
   "execution_count": null,
   "metadata": {},
   "source": [
    "import os\n",
    "import json\n",
    "from app.agent import agent\n",
    "from app.utils.lighthouse import LighthouseRunner, LighthouseConfig\n",
    "from app.utils.github_integration import GitHubIntegration\n",
    "\n",
    "# Optional: Set GitHub token for PR creation\n",
    "# os.environ[\"GITHUB_TOKEN\"] = \"your-token-here\""
   ]
  },
  {
   "cell_type": "markdown",
   "metadata": {},
   "source": [
    "## Test 1: Running a Lighthouse Audit\n",
    "\n",
    "Let's test the agent's ability to run a Lighthouse audit on a website and analyze the results."
   ]
  },
  {
   "cell_type": "code",
   "execution_count": null,
   "metadata": {},
   "source": [
    "messages = [\n",
    "    {\"role\": \"user\", \"content\": \"Run a Lighthouse audit on https://example.com and analyze the results\"}\n",
    "]\n",
    "\n",
    "for chunk in agent.stream({\"messages\": messages}):\n",
    "    if chunk.get(\"messages\"):\n",
    "        print(chunk[\"messages\"][0].content)"
   ]
  },
  {
   "cell_type": "markdown",
   "metadata": {},
   "source": [
    "## Test 2: Analyzing an Existing Report\n",
    "\n",
    "Now let's test the agent's ability to analyze an existing Lighthouse report."
   ]
  },
  {
   "cell_type": "code",
   "execution_count": null,
   "metadata": {},
   "source": [
    "# Example Lighthouse report (you would replace this with a real report)\n",
    "sample_report = {\n",
    "    \"audits\": {\n",
    "        \"performance\": {\n",
    "            \"score\": 0.7,\n",
    "            \"title\": \"Performance needs improvement\",\n",
    "            \"description\": \"Several performance metrics are below target\",\n",
    "            \"details\": {\n",
    "                \"items\": [\n",
    "                    {\n",
    "                        \"suggestion\": \"Optimize image sizes\",\n",
    "                        \"snippet\": \"<img src='large-image.jpg' />\"\n",
    "                    }\n",
    "                ]\n",
    "            }\n",
    "        }\n",
    "    }\n",
    "}\n",
    "\n",
    "messages = [\n",
    "    {\"role\": \"user\", \"content\": f\"Analyze this Lighthouse report and suggest improvements: {json.dumps(sample_report)}\"}\n",
    "]\n",
    "\n",
    "for chunk in agent.stream({\"messages\": messages}):\n",
    "    if chunk.get(\"messages\"):\n",
    "        print(chunk[\"messages\"][0].content)"
   ]
  },
  {
   "cell_type": "markdown",
   "metadata": {},
   "source": [
    "## Test 3: Creating GitHub PRs with Fixes\n",
    "\n",
    "Finally, let's test the agent's ability to create pull requests with fixes (requires GitHub token)."
   ]
  },
  {
   "cell_type": "code",
   "execution_count": null,
   "metadata": {},
   "source": [
    "# Example fixes (you would get these from actual audit results)\n",
    "example_fixes = [\n",
    "    {\n",
    "        \"file_path\": \"index.html\",\n",
    "        \"original_content\": \"<img src='large-image.jpg' />\",\n",
    "        \"fixed_content\": \"<img src='large-image.jpg' loading='lazy' width='800' height='600' />\",\n",
    "        \"description\": \"Added lazy loading and dimensions to improve performance\",\n",
    "        \"issue_title\": \"Image Optimization\"\n",
    "    }\n",
    "]\n",
    "\n",
    "messages = [\n",
    "    {\"role\": \"user\", \"content\": f\"Create a pull request with these fixes for owner/repo: {json.dumps(example_fixes)}\"}\n",
    "]\n",
    "\n",
    "for chunk in agent.stream({\"messages\": messages}):\n",
    "    if chunk.get(\"messages\"):\n",
    "        print(chunk[\"messages\"][0].content)"
   ]
  },
  {
   "cell_type": "markdown",
   "metadata": {},
   "source": [
    "## End-to-End Workflow\n",
    "\n",
    "Here's an example of a complete workflow: audit a site, analyze results, and create fixes."
   ]
  },
  {
   "cell_type": "code",
   "execution_count": null,
   "metadata": {},
   "source": [
    "messages = [\n",
    "    {\"role\": \"user\", \"content\": \"\"\"Please help improve https://example.com:\n",
    "    1. Run a Lighthouse audit\n",
    "    2. Analyze the results\n",
    "    3. Create a PR with fixes for owner/repo\n",
    "    \"\"\"}\n",
    "]\n",
    "\n",
    "for chunk in agent.stream({\"messages\": messages}):\n",
    "    if chunk.get(\"messages\"):\n",
    "        print(chunk[\"messages\"][0].content)"
   ]
  },
  {
   "cell_type": "markdown",
   "metadata": {},
   "source": [
    "## Handling Large Reports\n",
    "\n",
    "Demonstration of how the agent handles large Lighthouse reports by chunking them into manageable pieces."
   ]
  },
  {
   "cell_type": "code",
   "execution_count": null,
   "metadata": {},
   "source": [
    "from app.utils.lighthouse import ReportChunker\n",
    "\n",
    "# Example of a large report (you would have a real large report here)\n",
    "large_report = {\n",
    "    \"metadata\": {\"timestamp\": \"2025-04-06T10:00:00.000Z\"},\n",
    "    \"audits\": {\n",
    "        # ... many audit results ...\n",
    "    }\n",
    "}\n",
    "\n",
    "# Chunk the report\n",
    "chunks = ReportChunker.chunk_report(large_report)\n",
    "print(f\"Split report into {len(chunks)} chunks\")\n",
    "\n",
    "# Process each chunk\n",
    "for i, chunk in enumerate(chunks):\n",
    "    print(f\"\\nProcessing chunk {i+1}:\")\n",
    "    messages = [\n",
    "        {\"role\": \"user\", \"content\": f\"Analyze this part of the Lighthouse report: {json.dumps(chunk)}\"}\n",
    "    ]\n",
    "    \n",
    "    for response in agent.stream({\"messages\": messages}):\n",
    "        if response.get(\"messages\"):\n",
    "            print(response[\"messages\"][0].content)"
   ]
  }
 ],
 "metadata": {
  "kernelspec": {
   "display_name": "Python 3",
   "language": "python",
   "name": "python3"
  },
  "language_info": {
   "codemirror_mode": {
    "name": "ipython",
    "version": 3
   },
   "file_extension": ".py",
   "mimetype": "text/x-python",
   "name": "python",
   "nbconvert_exporter": "python",
   "pygments_lexer": "ipython3",
   "version": "3.9.0"
  }
 },
 "nbformat": 4,
 "nbformat_minor": 4
}
