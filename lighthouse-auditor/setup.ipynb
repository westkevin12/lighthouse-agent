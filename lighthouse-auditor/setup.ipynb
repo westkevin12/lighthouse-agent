{
 "cells": [
  {
   "cell_type": "markdown",
   "metadata": {},
   "source": [
    "# Agent Starter Pack Setup Notebook\n",
    "\n",
    "This notebook will help you set up your environment for working with the Agent Starter Pack. It will check for required dependencies and install any missing components.\n",
    "\n",
    "## Prerequisites\n",
    "\n",
    "This notebook will check for and help install:\n",
    "- Python 3.10+\n",
    "- Google Cloud SDK\n",
    "- Terraform\n",
    "- uv package manager\n",
    "- GitHub CLI (optional, for CI/CD setup)\n",
    "- Authentication requirements\n",
    "\n",
    "Let's start by checking your current environment."
   ]
  },
  {
   "cell_type": "markdown",
   "metadata": {},
   "source": [
    "### starter pack Dir"
   ]
  },
  {
   "cell_type": "markdown",
   "metadata": {},
   "source": [
    "```bash # */agent-starter-pack\n",
    "sudo apt update && sudo apt install python3-full \n",
    "sudo apt install python3-pip\n",
    "make install\n",
    "\n",
    "\n",
    "#if using pipx\n",
    "python3 -m pip install --user pipx && python3 -m pipx ensurepath\n",
    "pipx install agent-starter-pack\n",
    "\n",
    "\n",
    "# using venv\n",
    "python3 -m venv venv \\\n",
    "source venv/bin/activate \\\n",
    "pip install agent-starter-pack\n",
    "```"
   ]
  },
  {
   "cell_type": "markdown",
   "metadata": {},
   "source": [
    "### Agent Dir"
   ]
  },
  {
   "cell_type": "markdown",
   "metadata": {},
   "source": [
    "```bash\n",
    "cd {project_name} # */agent-starter-pack/project_name\n",
    "sudo add-apt-repository ppa:deadsnakes/ppa\n",
    "sudo apt update\n",
    "\n",
    "sudo apt install python3.10-full\n",
    "sudo apt install chromium # or browser sudo apt install chromium-browser\n",
    "\n",
    "make install\n",
    "\n",
    "# using venv\n",
    "python3.10 -m venv .venv\n",
    "source .venv/bin/activate\n",
    "make install\n",
    "\n",
    "```"
   ]
  },
  {
   "cell_type": "markdown",
   "metadata": {},
   "source": [
    "```bash"
   ]
  },
  {
   "cell_type": "markdown",
   "metadata": {},
   "source": [
    "## 1. Check Python Environment"
   ]
  },
  {
   "cell_type": "code",
   "execution_count": null,
   "metadata": {},
   "outputs": [],
   "source": [
    "import sys\n",
    "import platform\n",
    "import subprocess\n",
    "import shutil\n",
    "import os\n",
    "from pathlib import Path\n",
    "\n",
    "# Check Python version\n",
    "python_version = sys.version_info\n",
    "required_python_version = (3, 10)\n",
    "\n",
    "print(f\"Python version: {sys.version}\")\n",
    "print(f\"Platform: {platform.platform()}\")\n",
    "\n",
    "if python_version < required_python_version:\n",
    "    print(f\"⚠️ Warning: Python version {python_version.major}.{python_version.minor} is below the required version 3.10+\")\n",
    "    print(\"Please consider upgrading your Python version before continuing.\")\n",
    "else:\n",
    "    print(f\"✅ Python version {python_version.major}.{python_version.minor} meets requirements\")"
   ]
  },
  {
   "cell_type": "markdown",
   "metadata": {},
   "source": [
    "## 2. Check for and Install Required Tools\n",
    "\n",
    "Let's check for the required tools: uv, Google Cloud SDK, Terraform, and GitHub CLI."
   ]
  },
  {
   "cell_type": "code",
   "execution_count": null,
   "metadata": {},
   "outputs": [],
   "source": [
    "def check_command(command, args=[\"-V\"], name=None):\n",
    "    \"\"\"Check if a command is available and return its version\"\"\"\n",
    "    if name is None:\n",
    "        name = command\n",
    "        \n",
    "    cmd_path = shutil.which(command)\n",
    "    if cmd_path:\n",
    "        try:\n",
    "            result = subprocess.run([command] + args, capture_output=True, text=True)\n",
    "            version = result.stdout.strip() or result.stderr.strip()\n",
    "            print(f\"✅ {name} is installed: {version}\")\n",
    "            return True, cmd_path, version\n",
    "        except Exception as e:\n",
    "            print(f\"⚠️ {name} is installed at {cmd_path}, but encountered an error: {e}\")\n",
    "            return True, cmd_path, None\n",
    "    else:\n",
    "        print(f\"❌ {name} is not installed or not in PATH\")\n",
    "        return False, None, None\n",
    "\n",
    "# Check for uv\n",
    "uv_installed, uv_path, uv_version = check_command(\"uv\", [\"--version\"])\n",
    "\n",
    "# Check for Google Cloud SDK\n",
    "gcloud_installed, gcloud_path, gcloud_version = check_command(\"gcloud\", [\"--version\"])\n",
    "\n",
    "# Check for Terraform\n",
    "terraform_installed, terraform_path, terraform_version = check_command(\"terraform\", [\"--version\"])\n",
    "\n",
    "# Check for GitHub CLI\n",
    "gh_installed, gh_path, gh_version = check_command(\"gh\", [\"--version\"])\n",
    "\n",
    "# Check for make\n",
    "make_installed, make_path, make_version = check_command(\"make\", [\"--version\"])"
   ]
  },
  {
   "cell_type": "markdown",
   "metadata": {},
   "source": [
    "## 3. Install Missing Dependencies\n",
    "\n",
    "Based on the checks above, let's install any missing dependencies. You can run the cells for tools that are missing."
   ]
  },
  {
   "cell_type": "markdown",
   "metadata": {},
   "source": [
    "### Install uv (Python package manager)\n",
    "\n",
    "uv is a fast package installer and resolver that we'll use for managing Python dependencies."
   ]
  },
  {
   "cell_type": "code",
   "execution_count": null,
   "metadata": {},
   "outputs": [],
   "source": [
    "if not uv_installed:\n",
    "    print(\"Installing uv...\")\n",
    "    \n",
    "    # Determine the installation command based on the platform\n",
    "    if platform.system() == \"Windows\":\n",
    "        # For Windows, download the installer and run it\n",
    "        print(\"For Windows, please follow the installation instructions at:\")\n",
    "        print(\"https://astral.sh/uv/0.6.11/install.ps1\")\n",
    "    else:\n",
    "        # For Unix-based systems (Linux and macOS)\n",
    "        try:\n",
    "            install_command = \"curl -LsSf https://astral.sh/uv/install.sh | sh\"\n",
    "            print(f\"Running: {install_command}\")\n",
    "            subprocess.run(install_command, shell=True, check=True)\n",
    "            print(\"✅ uv installed successfully\")\n",
    "            \n",
    "            # Remind users to update their PATH\n",
    "            print(\"\\nIMPORTANT: You may need to restart your terminal or add uv to your PATH.\")\n",
    "            print(\"If you're using bash, you can run: source ~/.bashrc\")\n",
    "            print(\"If you're using zsh, you can run: source ~/.zshrc\")\n",
    "        except subprocess.CalledProcessError as e:\n",
    "            print(f\"❌ Failed to install uv: {e}\")\n",
    "else:\n",
    "    print(\"uv is already installed. Skipping installation.\")"
   ]
  },
  {
   "cell_type": "markdown",
   "metadata": {},
   "source": [
    "### Install Google Cloud SDK\n",
    "\n",
    "The Google Cloud SDK is required for interacting with Google Cloud services."
   ]
  },
  {
   "cell_type": "code",
   "execution_count": null,
   "metadata": {},
   "outputs": [],
   "source": [
    "if not gcloud_installed:\n",
    "    print(\"Google Cloud SDK is not installed. Please install it manually:\")\n",
    "    \n",
    "    if platform.system() == \"Windows\":\n",
    "        print(\"Windows: https://cloud.google.com/sdk/docs/install-sdk#windows\")\n",
    "    elif platform.system() == \"Darwin\":  # macOS\n",
    "        print(\"macOS: https://cloud.google.com/sdk/docs/install-sdk#mac\")\n",
    "    else:  # Linux\n",
    "        print(\"Linux: https://cloud.google.com/sdk/docs/install-sdk#deb\")\n",
    "        \n",
    "    print(\"\\nAfter installing, run 'gcloud init' to initialize the SDK.\")\n",
    "else:\n",
    "    print(\"Google Cloud SDK is already installed.\")"
   ]
  },
  {
   "cell_type": "markdown",
   "metadata": {},
   "source": [
    "### Install Terraform\n",
    "\n",
    "Terraform is used for infrastructure deployment."
   ]
  },
  {
   "cell_type": "code",
   "execution_count": null,
   "metadata": {},
   "outputs": [],
   "source": [
    "if not terraform_installed:\n",
    "    print(\"Terraform is not installed. Please install it manually:\")\n",
    "    print(\"Instructions: https://developer.hashicorp.com/terraform/downloads\")\n",
    "    \n",
    "    if platform.system() == \"Darwin\" and platform.machine() == \"arm64\":  # macOS Apple Silicon\n",
    "        print(\"\\nFor macOS with Apple Silicon, you can use Homebrew:\")\n",
    "        print(\"brew tap hashicorp/tap\")\n",
    "        print(\"brew install hashicorp/tap/terraform\")\n",
    "    elif platform.system() == \"Darwin\":  # macOS Intel\n",
    "        print(\"\\nFor macOS with Intel, you can use Homebrew:\")\n",
    "        print(\"brew tap hashicorp/tap\")\n",
    "        print(\"brew install hashicorp/tap/terraform\")\n",
    "    elif platform.system() == \"Linux\":\n",
    "        print(\"\\nFor Linux, you can use apt (Ubuntu/Debian):\")\n",
    "        print(\"sudo apt-get update && sudo apt-get install -y gnupg software-properties-common\")\n",
    "        print(\"wget -O- https://apt.releases.hashicorp.com/gpg | gpg --dearmor | sudo tee /usr/share/keyrings/hashicorp-archive-keyring.gpg\")\n",
    "        print(\"echo \\\"deb [signed-by=/usr/share/keyrings/hashicorp-archive-keyring.gpg] https://apt.releases.hashicorp.com $(lsb_release -cs) main\\\" | sudo tee /etc/apt/sources.list.d/hashicorp.list\")\n",
    "        print(\"sudo apt-get update && sudo apt-get install terraform\")\n",
    "else:\n",
    "    print(\"Terraform is already installed.\")"
   ]
  },
  {
   "cell_type": "markdown",
   "metadata": {},
   "source": [
    "### Install GitHub CLI (optional)\n",
    "\n",
    "The GitHub CLI is needed if you plan to use the `setup-cicd` command for automated CI/CD setup."
   ]
  },
  {
   "cell_type": "code",
   "execution_count": null,
   "metadata": {},
   "outputs": [],
   "source": [
    "if not gh_installed:\n",
    "    print(\"GitHub CLI is not installed. It's optional but recommended for CI/CD setup.\")\n",
    "    print(\"Installation instructions: https://github.com/cli/cli#installation\")\n",
    "    \n",
    "    if platform.system() == \"Darwin\":  # macOS\n",
    "        print(\"\\nFor macOS, you can use Homebrew:\")\n",
    "        print(\"brew install gh\")\n",
    "    elif platform.system() == \"Linux\":\n",
    "        print(\"\\nFor Ubuntu/Debian Linux:\")\n",
    "        print(\"\"\"# First, remove any existing GitHub CLI repository configurations\n",
    "sudo rm -f /etc/apt/sources.list.d/github-cli.list\n",
    "sudo rm -f /etc/apt/keyrings/githubcli-archive-keyring.gpg\n",
    "\n",
    "# Then add the repository with explicit settings\n",
    "sudo mkdir -p -m 755 /etc/apt/keyrings\n",
    "wget -qO- https://cli.github.com/packages/githubcli-archive-keyring.gpg | sudo tee /etc/apt/keyrings/githubcli-archive-keyring.gpg > /dev/null\n",
    "sudo chmod go+r /etc/apt/keyrings/githubcli-archive-keyring.gpg\n",
    "echo \"deb [arch=$(dpkg --print-architecture) signed-by=/etc/apt/keyrings/githubcli-archive-keyring.gpg] https://cli.github.com/packages stable main\" | sudo tee /etc/apt/sources.list.d/github-cli.list > /dev/null\n",
    "\n",
    "# Update and install\n",
    "sudo apt update\n",
    "sudo apt install gh -y\"\"\")\n",
    "        \n",
    "        # You might want to add other distributions as well\n",
    "        print(\"\\nFor other Linux distributions, please refer to: https://github.com/cli/cli/blob/trunk/docs/install_linux.md\")\n",
    "else:\n",
    "    print(\"GitHub CLI is already installed.\")"
   ]
  },
  {
   "cell_type": "markdown",
   "metadata": {},
   "source": [
    "### Install Make\n",
    "\n",
    "Make is needed for running the project's predefined commands."
   ]
  },
  {
   "cell_type": "code",
   "execution_count": null,
   "metadata": {},
   "outputs": [],
   "source": [
    "if not make_installed:\n",
    "    print(\"Make is not installed.\")\n",
    "    \n",
    "    if platform.system() == \"Windows\":\n",
    "        print(\"For Windows, you can install make through chocolatey:\")\n",
    "        print(\"choco install make\")\n",
    "        print(\"Or through scoop: scoop install make\")\n",
    "    elif platform.system() == \"Darwin\":  # macOS\n",
    "        print(\"For macOS, you can use Homebrew:\")\n",
    "        print(\"brew install make\")\n",
    "    elif platform.system() == \"Linux\":\n",
    "        print(\"For Ubuntu/Debian Linux:\")\n",
    "        print(\"sudo apt-get update && sudo apt-get install -y make\")\n",
    "else:\n",
    "    print(\"Make is already installed.\")"
   ]
  },
  {
   "cell_type": "markdown",
   "metadata": {},
   "source": [
    "## 4. Verify Google Cloud Authentication\n",
    "\n",
    "Let's verify that you're authenticated with Google Cloud."
   ]
  },
  {
   "cell_type": "code",
   "execution_count": null,
   "metadata": {},
   "outputs": [],
   "source": [
    "if gcloud_installed:\n",
    "    try:\n",
    "        # Check if gcloud is authenticated\n",
    "        auth_result = subprocess.run([\"gcloud\", \"auth\", \"list\"], capture_output=True, text=True)\n",
    "        if \"No credentialed accounts.\" in auth_result.stdout:\n",
    "            print(\"❌ Not authenticated with Google Cloud. Please run 'gcloud auth login' to authenticate.\")\n",
    "        else:\n",
    "            print(\"✅ Authenticated with Google Cloud:\") \n",
    "            print(auth_result.stdout)\n",
    "            \n",
    "        # Check if a project is set\n",
    "        project_result = subprocess.run([\"gcloud\", \"config\", \"get-value\", \"project\"], capture_output=True, text=True)\n",
    "        if project_result.stdout.strip():\n",
    "            print(f\"✅ Default project is set to: {project_result.stdout.strip()}\")\n",
    "        else:\n",
    "            print(\"❌ No default project is set. Use 'gcloud config set project YOUR-PROJECT-ID' to set one.\")\n",
    "        \n",
    "        # Check if application default credentials are set\n",
    "        adc_file = Path.home() / \".config\" / \"gcloud\" / \"application_default_credentials.json\"\n",
    "        if adc_file.exists():\n",
    "            print(\"✅ Application Default Credentials are set.\")\n",
    "        else:\n",
    "            print(\"❌ Application Default Credentials are not set.\")\n",
    "            print(\"Run 'gcloud auth application-default login' to set them up.\")\n",
    "            print(\"This is required for using the Vertex AI API and other Google Cloud services.\")\n",
    "    except Exception as e:\n",
    "        print(f\"❌ Error checking Google Cloud authentication: {e}\")\n",
    "else:\n",
    "    print(\"Google Cloud SDK is not installed. Authentication check skipped.\")"
   ]
  },
  {
   "cell_type": "markdown",
   "metadata": {},
   "source": [
    "### Authenticate with Google Cloud (if needed)\n",
    "\n",
    "If you're not authenticated, run the following cells to authenticate."
   ]
  },
  {
   "cell_type": "code",
   "execution_count": null,
   "metadata": {},
   "outputs": [],
   "source": [
    "# Run this cell if you need to authenticate with Google Cloud\n",
    "if gcloud_installed:\n",
    "    try:\n",
    "        print(\"Initiating Google Cloud authentication...\")\n",
    "        print(\"This will open a browser window to authenticate with Google Cloud.\")\n",
    "        subprocess.run([\"gcloud\", \"auth\", \"login\"], check=True)\n",
    "        print(\"✅ Google Cloud authentication completed!\")\n",
    "    except Exception as e:\n",
    "        print(f\"❌ Error authenticating with Google Cloud: {e}\")\n",
    "else:\n",
    "    print(\"Google Cloud SDK is not installed. Authentication skipped.\")"
   ]
  },
  {
   "cell_type": "code",
   "execution_count": null,
   "metadata": {},
   "outputs": [],
   "source": [
    "# Run this cell to set up Application Default Credentials (for Vertex AI and other APIs)\n",
    "if gcloud_installed:\n",
    "    try:\n",
    "        print(\"Setting up Application Default Credentials...\")\n",
    "        print(\"This will open a browser window to authorize access to Google Cloud APIs.\")\n",
    "        subprocess.run([\"gcloud\", \"auth\", \"application-default\", \"login\"], check=True)\n",
    "        print(\"✅ Application Default Credentials set up successfully!\")\n",
    "    except Exception as e:\n",
    "        print(f\"❌ Error setting up Application Default Credentials: {e}\")\n",
    "else:\n",
    "    print(\"Google Cloud SDK is not installed. ADC setup skipped.\")"
   ]
  },
  {
   "cell_type": "markdown",
   "metadata": {},
   "source": [
    "## 5. Verify GitHub Authentication (Optional)\n",
    "\n",
    "If you plan to use the CI/CD setup functionality, let's verify that you're authenticated with GitHub."
   ]
  },
  {
   "cell_type": "code",
   "execution_count": null,
   "metadata": {},
   "outputs": [],
   "source": [
    "if gh_installed:\n",
    "    try:\n",
    "        # Check if gh is authenticated\n",
    "        auth_result = subprocess.run([\"gh\", \"auth\", \"status\"], capture_output=True, text=True)\n",
    "        if \"Logged in to\" in auth_result.stdout:\n",
    "            print(\"✅ Authenticated with GitHub:\")\n",
    "            print(auth_result.stdout.strip())\n",
    "        else:\n",
    "            print(\"❌ Not authenticated with GitHub. Please run 'gh auth login' to authenticate.\")\n",
    "    except Exception as e:\n",
    "        print(f\"❌ Error checking GitHub authentication: {e}\")\n",
    "else:\n",
    "    print(\"GitHub CLI is not installed. Authentication check skipped.\")"
   ]
  },
  {
   "cell_type": "code",
   "execution_count": null,
   "metadata": {},
   "outputs": [],
   "source": [
    "# Run this cell if you need to authenticate with GitHub\n",
    "if gh_installed:\n",
    "    try:\n",
    "        print(\"Initiating GitHub authentication...\")\n",
    "        print(\"This will guide you through the GitHub authentication process.\")\n",
    "        subprocess.run([\"gh\", \"auth\", \"login\"], check=True)\n",
    "        print(\"✅ GitHub authentication completed!\")\n",
    "    except Exception as e:\n",
    "        print(f\"❌ Error authenticating with GitHub: {e}\")\n",
    "else:\n",
    "    print(\"GitHub CLI is not installed. Authentication skipped.\")"
   ]
  },
  {
   "cell_type": "markdown",
   "metadata": {},
   "source": [
    "## 6. Set Up Python Virtual Environment and Install Dependencies\n",
    "\n",
    "Let's set up a Python virtual environment and install the project dependencies."
   ]
  },
  {
   "cell_type": "code",
   "execution_count": null,
   "metadata": {},
   "outputs": [],
   "source": [
    "# Debug information about current location\n",
    "print(f\"Current working directory: {os.getcwd()}\")\n",
    "print(f\"Directory contents: {os.listdir('.')}\")\n",
    "\n",
    "# Check if we're in a project directory created by agent-starter-pack\n",
    "try:\n",
    "    # Check for pyproject.toml in current directory\n",
    "    pyproject_exists = os.path.exists(\"pyproject.toml\")\n",
    "    \n",
    "    # Check for other key files/directories that would be in a project created by agent-starter-pack\n",
    "    has_app_dir = os.path.exists(\"app\")\n",
    "    has_deployment_dir = os.path.exists(\"deployment\")\n",
    "    \n",
    "    # Get parent directory name to verify we're within agent-starter-pack structure\n",
    "    parent_dir = os.path.dirname(os.getcwd())\n",
    "    parent_name = os.path.basename(parent_dir)\n",
    "    \n",
    "    print(f\"Parent directory: {parent_dir}\")\n",
    "    print(f\"Parent directory name: {parent_name}\")\n",
    "    \n",
    "    if pyproject_exists:\n",
    "        print(\"✅ Found pyproject.toml in the current directory.\")\n",
    "        \n",
    "        if parent_name == \"agent-starter-pack\":\n",
    "            print(\"✅ Parent directory is 'agent-starter-pack'. We're in the correct structure.\")\n",
    "        else:\n",
    "            print(\"⚠️ Parent directory is not 'agent-starter-pack'. We might not be in the expected structure.\")\n",
    "            \n",
    "        if has_app_dir and has_deployment_dir:\n",
    "            print(\"✅ Found expected project directories (app/, deployment/).\")\n",
    "        else:\n",
    "            missing = []\n",
    "            if not has_app_dir: missing.append(\"app/\")\n",
    "            if not has_deployment_dir: missing.append(\"deployment/\")\n",
    "            print(f\"⚠️ Missing some expected project directories: {', '.join(missing)}\")\n",
    "    else:\n",
    "        print(\"❌ pyproject.toml not found in the current directory.\")\n",
    "        print(\"Please navigate to the project directory before continuing.\")\n",
    "except Exception as e:\n",
    "    print(f\"❌ Error checking for project structure: {e}\")\n",
    "\n",
    "# Check if virtual environment exists\n",
    "venv_path = \".venv\"\n",
    "venv_exists = os.path.exists(venv_path) and os.path.isdir(venv_path)\n",
    "if venv_exists:\n",
    "    print(f\"✅ Virtual environment exists at {venv_path}\")\n",
    "    # Print environment details\n",
    "    try:\n",
    "        activate_path = os.path.join(venv_path, \"bin\", \"activate\") if os.name != \"nt\" else os.path.join(venv_path, \"Scripts\", \"activate\")\n",
    "        python_path = os.path.join(venv_path, \"bin\", \"python\") if os.name != \"nt\" else os.path.join(venv_path, \"Scripts\", \"python.exe\")\n",
    "        \n",
    "        print(f\"Python interpreter path: {python_path}\")\n",
    "        print(f\"Activation script: {activate_path}\")\n",
    "        \n",
    "        if os.path.exists(python_path):\n",
    "            # Get Python version from virtual environment\n",
    "            result = subprocess.run([python_path, \"--version\"], capture_output=True, text=True)\n",
    "            print(f\"Virtual environment Python version: {result.stdout.strip()}\")\n",
    "    except Exception as e:\n",
    "        print(f\"Error getting virtual environment details: {e}\")\n",
    "else:\n",
    "    print(f\"❌ Virtual environment not found at {venv_path}\")"
   ]
  },
  {
   "cell_type": "code",
   "execution_count": null,
   "metadata": {},
   "outputs": [],
   "source": [
    "# Create virtual environment if it doesn't exist\n",
    "if not venv_exists and pyproject_exists:\n",
    "    try:\n",
    "        print(\"Creating virtual environment...\")\n",
    "        subprocess.run([sys.executable, \"-m\", \"venv\", venv_path], check=True)\n",
    "        print(f\"✅ Virtual environment created at {venv_path}\")\n",
    "    except Exception as e:\n",
    "        print(f\"❌ Error creating virtual environment: {e}\")"
   ]
  },
  {
   "cell_type": "code",
   "execution_count": null,
   "metadata": {},
   "outputs": [],
   "source": [
    "# Install dependencies using make install (which uses uv)\n",
    "if pyproject_exists and uv_installed:\n",
    "    try:\n",
    "        print(\"Installing dependencies using 'make install'...\")\n",
    "        subprocess.run([\"make\", \"install\"], check=True)\n",
    "        print(\"✅ Dependencies installed successfully!\")\n",
    "    except Exception as e:\n",
    "        print(f\"❌ Error installing dependencies: {e}\")\n",
    "        print(\"\\nAlternatively, you can try installing dependencies manually with:\")\n",
    "        print(\"uv sync --dev --extra streamlit --extra jupyter --frozen\")\n",
    "elif pyproject_exists and not uv_installed:\n",
    "    print(\"❌ uv is not installed. Please install uv first and then run 'make install'.\")\n",
    "else:\n",
    "    print(\"❌ Not in project directory. Please navigate to the project directory before continuing.\")"
   ]
  },
  {
   "cell_type": "markdown",
   "metadata": {},
   "source": [
    "## 7. Enable Required Google Cloud APIs\n",
    "\n",
    "Let's enable the required Google Cloud APIs for the project. Make sure your default project is set correctly before running this cell."
   ]
  },
  {
   "cell_type": "code",
   "execution_count": null,
   "metadata": {},
   "outputs": [],
   "source": [
    "# Get the current project\n",
    "if gcloud_installed:\n",
    "    try:\n",
    "        project_result = subprocess.run([\"gcloud\", \"config\", \"get-value\", \"project\"], capture_output=True, text=True)\n",
    "        project_id = project_result.stdout.strip()\n",
    "        if project_id:\n",
    "            print(f\"Current project: {project_id}\")\n",
    "            \n",
    "            # Ask for confirmation\n",
    "            user_input = input(f\"Do you want to enable required APIs in project '{project_id}'? (y/n): \")\n",
    "            if user_input.lower() == 'y':\n",
    "                # Enable required APIs\n",
    "                apis = [\n",
    "                    \"aiplatform.googleapis.com\",       # Vertex AI\n",
    "                    \"discoveryengine.googleapis.com\",  # Vertex AI Search\n",
    "                    \"cloudresourcemanager.googleapis.com\",  # Resource Manager\n",
    "                    \"serviceusage.googleapis.com\",     # Service Usage\n",
    "                    \"run.googleapis.com\",              # Cloud Run\n",
    "                    \"logging.googleapis.com\",          # Cloud Logging\n",
    "                    \"cloudtrace.googleapis.com\"        # Cloud Trace\n",
    "                ]\n",
    "                \n",
    "                print(\"Enabling required APIs...\")\n",
    "                for api in apis:\n",
    "                    print(f\"Enabling {api}...\")\n",
    "                    subprocess.run([\"gcloud\", \"services\", \"enable\", api], check=True)\n",
    "                \n",
    "                print(\"✅ All required APIs enabled successfully!\")\n",
    "            else:\n",
    "                print(\"API enabling skipped.\")\n",
    "        else:\n",
    "            print(\"❌ No default project is set. Use 'gcloud config set project YOUR-PROJECT-ID' to set one.\")\n",
    "    except Exception as e:\n",
    "        print(f\"❌ Error enabling APIs: {e}\")\n",
    "else:\n",
    "    print(\"Google Cloud SDK is not installed. API enabling skipped.\")"
   ]
  },
  {
   "cell_type": "markdown",
   "metadata": {},
   "source": [
    "## 8. Start the Application\n",
    "\n",
    "Now that everything is set up, let's start the application in playground mode."
   ]
  },
  {
   "cell_type": "code",
   "execution_count": null,
   "metadata": {},
   "outputs": [],
   "source": [
    "# Start the application in playground mode\n",
    "if pyproject_exists and make_installed:\n",
    "    print(\"Starting the application in playground mode...\")\n",
    "    print(\"This will open a local development environment with a backend and frontend.\")\n",
    "    print(\"The application will be available at http://localhost:8000 (backend) and http://localhost:8501 (frontend).\")\n",
    "    print(\"Press Ctrl+C to stop the application.\")\n",
    "    \n",
    "    # Note that we're not actually starting the application here, just providing instructions\n",
    "    print(\"\\nTo start the application, open a terminal and run:\")\n",
    "    print(\"make playground\")\n",
    "    \n",
    "    # Provide alternative instructions for starting backend/frontend separately\n",
    "    print(\"\\nAlternatively, you can start the backend and frontend separately:\")\n",
    "    print(\"Terminal 1: make backend\")\n",
    "    print(\"Terminal 2: make ui\")\n",
    "else:\n",
    "    print(\"❌ Not in project directory or 'make' is not installed.\")"
   ]
  },
  {
   "cell_type": "markdown",
   "metadata": {},
   "source": [
    "## Setup Complete!\n",
    "\n",
    "🎉 Congratulations! Your environment is now set up for working with the Agent Starter Pack.\n",
    "\n",
    "### Next Steps\n",
    "\n",
    "1. Start the application:\n",
    "   ```\n",
    "   make playground\n",
    "   ```\n",
    "\n",
    "2. Explore the Agent Starter Pack documentation:\n",
    "   - [README.md](README.md)\n",
    "   - [docs/README.md](docs/README.md)\n",
    "\n",
    "3. Deploy your application to Google Cloud:\n",
    "   - For development: `make setup-dev-env`\n",
    "   - For production: See [deployment/README.md](deployment/README.md)\n",
    "\n",
    "Happy coding!"
   ]
  }
 ],
 "metadata": {
  "kernelspec": {
   "display_name": "Python 3",
   "language": "python",
   "name": "python3"
  },
  "language_info": {
   "codemirror_mode": {
    "name": "ipython",
    "version": 3
   },
   "file_extension": ".py",
   "mimetype": "text/x-python",
   "name": "python",
   "nbconvert_exporter": "python",
   "pygments_lexer": "ipython3",
   "version": "3.10.16"
  }
 },
 "nbformat": 4,
 "nbformat_minor": 4
}
